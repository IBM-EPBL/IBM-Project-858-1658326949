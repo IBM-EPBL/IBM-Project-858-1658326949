{
 "cells": [
  {
   "cell_type": "markdown",
   "id": "96b248c2",
   "metadata": {},
   "source": [
    "Team ID\t        :PNT2022TMID42258\n",
    "Project Name\t:Project – REAL TIME COMMUNICATION POWERED BY AI FOR SPECIALLY ABLED"
   ]
  },
  {
   "cell_type": "markdown",
   "id": "6f745740",
   "metadata": {},
   "source": [
    "Image preprocessing"
   ]
  },
  {
   "cell_type": "code",
   "execution_count": 1,
   "id": "3b2c2b21",
   "metadata": {},
   "outputs": [
    {
     "name": "stdout",
     "output_type": "stream",
     "text": [
      "Collecting keras==2.10.0\n",
      "  Using cached keras-2.10.0-py2.py3-none-any.whl (1.7 MB)\n",
      "Installing collected packages: keras\n",
      "  Attempting uninstall: keras\n",
      "    Found existing installation: Keras 2.2.4\n",
      "    Uninstalling Keras-2.2.4:\n",
      "      Successfully uninstalled Keras-2.2.4\n",
      "Successfully installed keras-2.10.0\n",
      "Note: you may need to restart the kernel to use updated packages.\n"
     ]
    }
   ],
   "source": [
    "pip install keras==2.10.0"
   ]
  },
  {
   "cell_type": "markdown",
   "id": "70f46499",
   "metadata": {},
   "source": [
    "Import ImageDataGenerator Library And Configure It"
   ]
  },
  {
   "cell_type": "code",
   "execution_count": 2,
   "id": "96b63e7f",
   "metadata": {},
   "outputs": [],
   "source": [
    "from keras.preprocessing.image import ImageDataGenerator\n",
    "train_datagen = ImageDataGenerator(rescale = 1./255, shear_range = 0.2, zoom_range = 0.2, horizontal_flip = True)\n",
    "test_datagen = ImageDataGenerator(rescale = 1./255)"
   ]
  },
  {
   "cell_type": "code",
   "execution_count": 3,
   "id": "4f16d9ee",
   "metadata": {},
   "outputs": [],
   "source": [
    "import tensorflow as tf\n",
    "def get_data(arg1, **kwargs):\n",
    "  tf.keras.preprocessing.image_dataset_from_directory(\n",
    "   r'C:\\Users\\pragadeswar\\Downloads\\conversation engine for deaf and dumb.zip',\n",
    "    labels=\"inferred\",\n",
    "    label_mode=\"int\",\n",
    "    class_names=None,\n",
    "    color_mode=\"rgb\",\n",
    "    batch_size=32,\n",
    "    image_size=(256, 256),\n",
    "    shuffle=True,\n",
    "    seed=None,\n",
    "    validation_split=None,\n",
    "    subset=None,\n",
    "    interpolation=\"bilinear\",\n",
    "    follow_links=False,\n",
    "    crop_to_aspect_ratio=False,\n",
    "    **kwargs\n",
    ")"
   ]
  },
  {
   "cell_type": "code",
   "execution_count": 4,
   "id": "1d6bca62",
   "metadata": {},
   "outputs": [],
   "source": [
    "def get_data(path):\n",
    "  tf.keras.preprocessing.image.load_img(\n",
    "    path, grayscale=False, color_mode=\"rgb\", target_size=None, interpolation=\"nearest\"\n",
    ")"
   ]
  },
  {
   "cell_type": "code",
   "execution_count": 5,
   "id": "72ff2395",
   "metadata": {},
   "outputs": [],
   "source": [
    "def get_data(image_path):\n",
    "  image = tf.keras.preprocessing.image.load_img(image_path)\n",
    "  input_arr = tf.keras.preprocessing.image.img_to_array(image)\n",
    "  input_arr = np.array([input_arr])  # Convert single image to a batch.\n",
    "  predictions = model.predict(input_arr)"
   ]
  },
  {
   "cell_type": "code",
   "execution_count": 6,
   "id": "4790d335",
   "metadata": {},
   "outputs": [],
   "source": [
    "def get_data(img):\n",
    "  tf.keras.preprocessing.image.img_to_array(img, data_format=None, dtype=None)"
   ]
  },
  {
   "cell_type": "code",
   "execution_count": 7,
   "id": "fcece2a7",
   "metadata": {},
   "outputs": [],
   "source": [
    "from tensorflow.python.keras.utils.np_utils import to_categorical\n",
    "import numpy as np\n",
    "from PIL import Image\n",
    "img_data = np.random.random(size=(100, 100, 3))\n",
    "img = tf.keras.preprocessing.image.array_to_img(img_data)\n",
    "array = tf.keras.preprocessing.image.img_to_array(img)"
   ]
  },
  {
   "cell_type": "markdown",
   "id": "c2d5545a",
   "metadata": {},
   "source": [
    "Apply ImageDataGenerator Functionality To Train And Test Set"
   ]
  },
  {
   "cell_type": "code",
   "execution_count": 8,
   "id": "0cc2d501",
   "metadata": {},
   "outputs": [
    {
     "name": "stdout",
     "output_type": "stream",
     "text": [
      "Found 15750 images belonging to 9 classes.\n"
     ]
    }
   ],
   "source": [
    "x_train = train_datagen.flow_from_directory(r\"C:\\Users\\pragadeswar\\Downloads\\conversation engine for deaf and dumb\\Dataset\\training_set\", target_size = (64, 64), batch_size = 300, class_mode = 'categorical', color_mode = 'grayscale')"
   ]
  },
  {
   "cell_type": "code",
   "execution_count": 9,
   "id": "7dc2a165",
   "metadata": {},
   "outputs": [
    {
     "name": "stdout",
     "output_type": "stream",
     "text": [
      "Found 2250 images belonging to 9 classes.\n"
     ]
    }
   ],
   "source": [
    "x_test = test_datagen.flow_from_directory(r'C:\\Users\\pragadeswar\\Downloads\\conversation engine for deaf and dumb\\Dataset\\test_set', target_size = (64, 64), batch_size = 300, class_mode = 'categorical', color_mode = 'grayscale')"
   ]
  }
 ],
 "metadata": {
  "kernelspec": {
   "display_name": "Python 3 (ipykernel)",
   "language": "python",
   "name": "python3"
  },
  "language_info": {
   "codemirror_mode": {
    "name": "ipython",
    "version": 3
   },
   "file_extension": ".py",
   "mimetype": "text/x-python",
   "name": "python",
   "nbconvert_exporter": "python",
   "pygments_lexer": "ipython3",
   "version": "3.9.13"
  }
 },
 "nbformat": 4,
 "nbformat_minor": 5
}
